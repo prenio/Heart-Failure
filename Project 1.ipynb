{
 "cells": [
  {
   "cell_type": "markdown",
   "id": "c84b1084",
   "metadata": {},
   "source": [
    "**DAT 402 Project 1** <br> <ul> <li> This data set was taken from kaggle (https://www.kaggle.com/datasets/andrewmvd/heart-failure-clinical-data). Using the Naive Bayes Classification Model, we can predict whether or not a patient will die or not based on all the independent variables. <br> <li> This project was done by Pierce Renio."
   ]
  },
  {
   "cell_type": "markdown",
   "id": "fbec128e",
   "metadata": {},
   "source": [
    "Start by importing necessary libraries."
   ]
  },
  {
   "cell_type": "code",
   "execution_count": 132,
   "id": "84b314e0",
   "metadata": {},
   "outputs": [],
   "source": [
    "#These libraries were also used in HW1\n",
    "import pandas as pd\n",
    "import matplotlib.pyplot as plt\n",
    "import numpy as np\n",
    "from sklearn.preprocessing import OrdinalEncoder\n",
    "from sklearn.naive_bayes import MultinomialNB, CategoricalNB\n",
    "\n",
    "from sklearn.metrics import confusion_matrix\n",
    "from sklearn.metrics import accuracy_score"
   ]
  },
  {
   "cell_type": "code",
   "execution_count": 133,
   "id": "323895a4",
   "metadata": {},
   "outputs": [
    {
     "name": "stdout",
     "output_type": "stream",
     "text": [
      "(299, 13)\n"
     ]
    },
    {
     "data": {
      "text/html": [
       "<div>\n",
       "<style scoped>\n",
       "    .dataframe tbody tr th:only-of-type {\n",
       "        vertical-align: middle;\n",
       "    }\n",
       "\n",
       "    .dataframe tbody tr th {\n",
       "        vertical-align: top;\n",
       "    }\n",
       "\n",
       "    .dataframe thead th {\n",
       "        text-align: right;\n",
       "    }\n",
       "</style>\n",
       "<table border=\"1\" class=\"dataframe\">\n",
       "  <thead>\n",
       "    <tr style=\"text-align: right;\">\n",
       "      <th></th>\n",
       "      <th>age</th>\n",
       "      <th>anaemia</th>\n",
       "      <th>creatinine_phosphokinase</th>\n",
       "      <th>diabetes</th>\n",
       "      <th>ejection_fraction</th>\n",
       "      <th>high_blood_pressure</th>\n",
       "      <th>platelets</th>\n",
       "      <th>serum_creatinine</th>\n",
       "      <th>serum_sodium</th>\n",
       "      <th>sex</th>\n",
       "      <th>smoking</th>\n",
       "      <th>time</th>\n",
       "      <th>DEATH_EVENT</th>\n",
       "    </tr>\n",
       "  </thead>\n",
       "  <tbody>\n",
       "    <tr>\n",
       "      <th>0</th>\n",
       "      <td>75.0</td>\n",
       "      <td>0</td>\n",
       "      <td>582</td>\n",
       "      <td>0</td>\n",
       "      <td>20</td>\n",
       "      <td>1</td>\n",
       "      <td>265000.00</td>\n",
       "      <td>1.9</td>\n",
       "      <td>130</td>\n",
       "      <td>1</td>\n",
       "      <td>0</td>\n",
       "      <td>4</td>\n",
       "      <td>1</td>\n",
       "    </tr>\n",
       "    <tr>\n",
       "      <th>1</th>\n",
       "      <td>55.0</td>\n",
       "      <td>0</td>\n",
       "      <td>7861</td>\n",
       "      <td>0</td>\n",
       "      <td>38</td>\n",
       "      <td>0</td>\n",
       "      <td>263358.03</td>\n",
       "      <td>1.1</td>\n",
       "      <td>136</td>\n",
       "      <td>1</td>\n",
       "      <td>0</td>\n",
       "      <td>6</td>\n",
       "      <td>1</td>\n",
       "    </tr>\n",
       "    <tr>\n",
       "      <th>2</th>\n",
       "      <td>65.0</td>\n",
       "      <td>0</td>\n",
       "      <td>146</td>\n",
       "      <td>0</td>\n",
       "      <td>20</td>\n",
       "      <td>0</td>\n",
       "      <td>162000.00</td>\n",
       "      <td>1.3</td>\n",
       "      <td>129</td>\n",
       "      <td>1</td>\n",
       "      <td>1</td>\n",
       "      <td>7</td>\n",
       "      <td>1</td>\n",
       "    </tr>\n",
       "    <tr>\n",
       "      <th>3</th>\n",
       "      <td>50.0</td>\n",
       "      <td>1</td>\n",
       "      <td>111</td>\n",
       "      <td>0</td>\n",
       "      <td>20</td>\n",
       "      <td>0</td>\n",
       "      <td>210000.00</td>\n",
       "      <td>1.9</td>\n",
       "      <td>137</td>\n",
       "      <td>1</td>\n",
       "      <td>0</td>\n",
       "      <td>7</td>\n",
       "      <td>1</td>\n",
       "    </tr>\n",
       "    <tr>\n",
       "      <th>4</th>\n",
       "      <td>65.0</td>\n",
       "      <td>1</td>\n",
       "      <td>160</td>\n",
       "      <td>1</td>\n",
       "      <td>20</td>\n",
       "      <td>0</td>\n",
       "      <td>327000.00</td>\n",
       "      <td>2.7</td>\n",
       "      <td>116</td>\n",
       "      <td>0</td>\n",
       "      <td>0</td>\n",
       "      <td>8</td>\n",
       "      <td>1</td>\n",
       "    </tr>\n",
       "  </tbody>\n",
       "</table>\n",
       "</div>"
      ],
      "text/plain": [
       "    age  anaemia  creatinine_phosphokinase  diabetes  ejection_fraction  \\\n",
       "0  75.0        0                       582         0                 20   \n",
       "1  55.0        0                      7861         0                 38   \n",
       "2  65.0        0                       146         0                 20   \n",
       "3  50.0        1                       111         0                 20   \n",
       "4  65.0        1                       160         1                 20   \n",
       "\n",
       "   high_blood_pressure  platelets  serum_creatinine  serum_sodium  sex  \\\n",
       "0                    1  265000.00               1.9           130    1   \n",
       "1                    0  263358.03               1.1           136    1   \n",
       "2                    0  162000.00               1.3           129    1   \n",
       "3                    0  210000.00               1.9           137    1   \n",
       "4                    0  327000.00               2.7           116    0   \n",
       "\n",
       "   smoking  time  DEATH_EVENT  \n",
       "0        0     4            1  \n",
       "1        0     6            1  \n",
       "2        1     7            1  \n",
       "3        0     7            1  \n",
       "4        0     8            1  "
      ]
     },
     "execution_count": 133,
     "metadata": {},
     "output_type": "execute_result"
    }
   ],
   "source": [
    "df = pd.read_csv('heart_failure_clinical_records_dataset.csv', sep=',')\n",
    "\n",
    "print(df.shape)\n",
    "df.head()\n"
   ]
  },
  {
   "cell_type": "markdown",
   "id": "f82c2054",
   "metadata": {},
   "source": [
    "Each row is a patient. The variable \"DEATH_EVENT\" will be the dependent variable we are trying to predict based on the other 12 independent variables. None of the variables are categorical; they are all integers. "
   ]
  },
  {
   "cell_type": "markdown",
   "id": "fa4f51f6",
   "metadata": {},
   "source": [
    "## Data cleaning\n",
    "\n",
    "<br>\n",
    "\n",
    "Since there are no categorical variables, there is no need to remove any variables nor convert any variables to integers.\n",
    "We will remove any observations that contain n/A values if they exist."
   ]
  },
  {
   "cell_type": "code",
   "execution_count": 134,
   "id": "ee69af42",
   "metadata": {},
   "outputs": [],
   "source": [
    "df.isnull().sum()\n",
    "df = df.dropna()"
   ]
  },
  {
   "cell_type": "markdown",
   "id": "53a0754e",
   "metadata": {},
   "source": [
    "There are no n/A values so there is no need to further clean the data.\n",
    "\n",
    "<br>\n",
    "\n",
    "Let's look at the proportions for DEATH_EVENT"
   ]
  },
  {
   "cell_type": "code",
   "execution_count": 135,
   "id": "3d5c24c0",
   "metadata": {},
   "outputs": [
    {
     "data": {
      "text/plain": [
       "0    0.67893\n",
       "1    0.32107\n",
       "Name: DEATH_EVENT, dtype: float64"
      ]
     },
     "execution_count": 135,
     "metadata": {},
     "output_type": "execute_result"
    }
   ],
   "source": [
    "df['DEATH_EVENT'].value_counts(normalize=True)"
   ]
  },
  {
   "cell_type": "markdown",
   "id": "ff4a2b2b",
   "metadata": {},
   "source": [
    "More patients have survived that died in this data set. Now we will begin fitting Naive Bayes on the training data."
   ]
  },
  {
   "cell_type": "code",
   "execution_count": 136,
   "id": "3f940f66",
   "metadata": {},
   "outputs": [
    {
     "name": "stdout",
     "output_type": "stream",
     "text": [
      "(209, 13)\n",
      "(90, 13)\n"
     ]
    }
   ],
   "source": [
    "#Setting seed\n",
    "np.random.seed(125432)\n",
    "\n",
    "#Shuffling rows of the data set; \n",
    "data_randomized = df.sample(frac=1)\n",
    "\n",
    "#Splitting the data (70/30)\n",
    "trainsize = round(len(data_randomized) * 0.7)\n",
    "\n",
    "training_set = data_randomized[:trainsize].reset_index(drop=True)\n",
    "test_set = data_randomized[trainsize:].reset_index(drop=True)\n",
    "\n",
    "#Sanity check\n",
    "print(training_set.shape)\n",
    "print(test_set.shape)"
   ]
  },
  {
   "cell_type": "markdown",
   "id": "33b2f870",
   "metadata": {},
   "source": [
    "Checking to see if the DEATH_EVENT proportions for the training and testing set are roughly equivalent."
   ]
  },
  {
   "cell_type": "code",
   "execution_count": 137,
   "id": "8b8080bb",
   "metadata": {},
   "outputs": [
    {
     "data": {
      "text/plain": [
       "0    0.684211\n",
       "1    0.315789\n",
       "Name: DEATH_EVENT, dtype: float64"
      ]
     },
     "execution_count": 137,
     "metadata": {},
     "output_type": "execute_result"
    }
   ],
   "source": [
    "training_set['DEATH_EVENT'].value_counts(normalize=True)"
   ]
  },
  {
   "cell_type": "code",
   "execution_count": 138,
   "id": "35c3059a",
   "metadata": {},
   "outputs": [
    {
     "data": {
      "text/plain": [
       "0    0.666667\n",
       "1    0.333333\n",
       "Name: DEATH_EVENT, dtype: float64"
      ]
     },
     "execution_count": 138,
     "metadata": {},
     "output_type": "execute_result"
    }
   ],
   "source": [
    "test_set['DEATH_EVENT'].value_counts(normalize=True)"
   ]
  },
  {
   "cell_type": "markdown",
   "id": "3065c148",
   "metadata": {},
   "source": [
    "To create the Naive Bayes model we must create 2 separate data frames, one for the x values and one for the y value. The data frame for the x values will have all the features except DEATH_EVENT. The data frame for the y value will only have the feature DEATH_EVENT."
   ]
  },
  {
   "cell_type": "code",
   "execution_count": 157,
   "id": "6a6c6e0e",
   "metadata": {},
   "outputs": [
    {
     "name": "stdout",
     "output_type": "stream",
     "text": [
      "2508\n"
     ]
    }
   ],
   "source": [
    "trainX = training_set.iloc[:,:-1]\n",
    "trainy = training_set['DEATH_EVENT']\n",
    "\n",
    "colnames = trainX.columns\n",
    "\n",
    "trainX.head()\n",
    "trainy.head()"
   ]
  },
  {
   "cell_type": "markdown",
   "id": "5107303a",
   "metadata": {},
   "source": [
    "We will also create 2 separate data frames for the test set. Essentially the same as the training set but created with the test set."
   ]
  },
  {
   "cell_type": "code",
   "execution_count": 155,
   "id": "c8262efd",
   "metadata": {},
   "outputs": [
    {
     "name": "stdout",
     "output_type": "stream",
     "text": [
      "(90, 12)\n"
     ]
    }
   ],
   "source": [
    "testX = test_set.iloc[:,:-1]\n",
    "testy = test_set['DEATH_EVENT']\n",
    "\n",
    "\n",
    "testX.head()\n",
    "testy.head()"
   ]
  },
  {
   "cell_type": "markdown",
   "id": "46696060",
   "metadata": {},
   "source": [
    "Since trainY and testY are already a Bernouli variable, there is no need to convert it."
   ]
  },
  {
   "cell_type": "code",
   "execution_count": 172,
   "id": "05d32d74",
   "metadata": {},
   "outputs": [
    {
     "data": {
      "text/html": [
       "<div>\n",
       "<style scoped>\n",
       "    .dataframe tbody tr th:only-of-type {\n",
       "        vertical-align: middle;\n",
       "    }\n",
       "\n",
       "    .dataframe tbody tr th {\n",
       "        vertical-align: top;\n",
       "    }\n",
       "\n",
       "    .dataframe thead th {\n",
       "        text-align: right;\n",
       "    }\n",
       "</style>\n",
       "<table border=\"1\" class=\"dataframe\">\n",
       "  <thead>\n",
       "    <tr style=\"text-align: right;\">\n",
       "      <th></th>\n",
       "      <th>age</th>\n",
       "      <th>anaemia</th>\n",
       "      <th>creatinine_phosphokinase</th>\n",
       "      <th>diabetes</th>\n",
       "      <th>ejection_fraction</th>\n",
       "      <th>high_blood_pressure</th>\n",
       "      <th>platelets</th>\n",
       "      <th>serum_creatinine</th>\n",
       "      <th>serum_sodium</th>\n",
       "      <th>sex</th>\n",
       "      <th>smoking</th>\n",
       "      <th>time</th>\n",
       "    </tr>\n",
       "  </thead>\n",
       "  <tbody>\n",
       "    <tr>\n",
       "      <th>0</th>\n",
       "      <td>20.0</td>\n",
       "      <td>0.0</td>\n",
       "      <td>123.0</td>\n",
       "      <td>1.0</td>\n",
       "      <td>7.0</td>\n",
       "      <td>0.0</td>\n",
       "      <td>90.0</td>\n",
       "      <td>6.0</td>\n",
       "      <td>9.0</td>\n",
       "      <td>1.0</td>\n",
       "      <td>0.0</td>\n",
       "      <td>43.0</td>\n",
       "    </tr>\n",
       "    <tr>\n",
       "      <th>1</th>\n",
       "      <td>20.0</td>\n",
       "      <td>0.0</td>\n",
       "      <td>132.0</td>\n",
       "      <td>1.0</td>\n",
       "      <td>4.0</td>\n",
       "      <td>0.0</td>\n",
       "      <td>71.0</td>\n",
       "      <td>15.0</td>\n",
       "      <td>0.0</td>\n",
       "      <td>1.0</td>\n",
       "      <td>1.0</td>\n",
       "      <td>84.0</td>\n",
       "    </tr>\n",
       "    <tr>\n",
       "      <th>2</th>\n",
       "      <td>25.0</td>\n",
       "      <td>0.0</td>\n",
       "      <td>23.0</td>\n",
       "      <td>1.0</td>\n",
       "      <td>8.0</td>\n",
       "      <td>1.0</td>\n",
       "      <td>29.0</td>\n",
       "      <td>6.0</td>\n",
       "      <td>16.0</td>\n",
       "      <td>1.0</td>\n",
       "      <td>0.0</td>\n",
       "      <td>15.0</td>\n",
       "    </tr>\n",
       "    <tr>\n",
       "      <th>3</th>\n",
       "      <td>25.0</td>\n",
       "      <td>1.0</td>\n",
       "      <td>6.0</td>\n",
       "      <td>1.0</td>\n",
       "      <td>10.0</td>\n",
       "      <td>0.0</td>\n",
       "      <td>23.0</td>\n",
       "      <td>5.0</td>\n",
       "      <td>13.0</td>\n",
       "      <td>0.0</td>\n",
       "      <td>0.0</td>\n",
       "      <td>59.0</td>\n",
       "    </tr>\n",
       "    <tr>\n",
       "      <th>4</th>\n",
       "      <td>22.0</td>\n",
       "      <td>0.0</td>\n",
       "      <td>76.0</td>\n",
       "      <td>0.0</td>\n",
       "      <td>2.0</td>\n",
       "      <td>1.0</td>\n",
       "      <td>65.0</td>\n",
       "      <td>5.0</td>\n",
       "      <td>16.0</td>\n",
       "      <td>1.0</td>\n",
       "      <td>1.0</td>\n",
       "      <td>3.0</td>\n",
       "    </tr>\n",
       "  </tbody>\n",
       "</table>\n",
       "</div>"
      ],
      "text/plain": [
       "    age  anaemia  creatinine_phosphokinase  diabetes  ejection_fraction  \\\n",
       "0  20.0      0.0                     123.0       1.0                7.0   \n",
       "1  20.0      0.0                     132.0       1.0                4.0   \n",
       "2  25.0      0.0                      23.0       1.0                8.0   \n",
       "3  25.0      1.0                       6.0       1.0               10.0   \n",
       "4  22.0      0.0                      76.0       0.0                2.0   \n",
       "\n",
       "   high_blood_pressure  platelets  serum_creatinine  serum_sodium  sex  \\\n",
       "0                  0.0       90.0               6.0           9.0  1.0   \n",
       "1                  0.0       71.0              15.0           0.0  1.0   \n",
       "2                  1.0       29.0               6.0          16.0  1.0   \n",
       "3                  0.0       23.0               5.0          13.0  0.0   \n",
       "4                  1.0       65.0               5.0          16.0  1.0   \n",
       "\n",
       "   smoking  time  \n",
       "0      0.0  43.0  \n",
       "1      1.0  84.0  \n",
       "2      0.0  15.0  \n",
       "3      0.0  59.0  \n",
       "4      1.0   3.0  "
      ]
     },
     "execution_count": 172,
     "metadata": {},
     "output_type": "execute_result"
    }
   ],
   "source": [
    "#For the independenet variable\n",
    "from sklearn.preprocessing import LabelEncoder\n",
    "\n",
    "le = LabelEncoder()\n",
    "trainBrnli = le.fit_transform(trainy)\n",
    "\n",
    "#For the dependent variable\n",
    "from sklearn.preprocessing import OrdinalEncoder\n",
    "\n",
    "enc = OrdinalEncoder()\n",
    "trainX = enc.fit_transform(trainX)  \n",
    "\n",
    "trainX = pd.DataFrame(trainX, columns=colnames) \n",
    "            \n",
    "#Sanity check\n",
    "trainX.head()"
   ]
  },
  {
   "cell_type": "code",
   "execution_count": 173,
   "id": "6966b2cd",
   "metadata": {},
   "outputs": [
    {
     "data": {
      "text/plain": [
       "CategoricalNB()"
      ]
     },
     "execution_count": 173,
     "metadata": {},
     "output_type": "execute_result"
    }
   ],
   "source": [
    "model = CategoricalNB() \n",
    "model.fit(trainX,trainBrnli)"
   ]
  },
  {
   "cell_type": "markdown",
   "id": "6fb8129f",
   "metadata": {},
   "source": [
    "With the model now trained, we will test the model on the train set."
   ]
  },
  {
   "cell_type": "code",
   "execution_count": 174,
   "id": "91037134",
   "metadata": {},
   "outputs": [],
   "source": [
    "yhattrain = model.predict(trainX)"
   ]
  },
  {
   "cell_type": "markdown",
   "id": "cd487ee1",
   "metadata": {},
   "source": [
    "We can see how effective the model is on the training data by looking at a confusion matrix and the accuracy score."
   ]
  },
  {
   "cell_type": "code",
   "execution_count": 175,
   "id": "57f0c8a5",
   "metadata": {},
   "outputs": [
    {
     "data": {
      "text/html": [
       "<div>\n",
       "<style scoped>\n",
       "    .dataframe tbody tr th:only-of-type {\n",
       "        vertical-align: middle;\n",
       "    }\n",
       "\n",
       "    .dataframe tbody tr th {\n",
       "        vertical-align: top;\n",
       "    }\n",
       "\n",
       "    .dataframe thead th {\n",
       "        text-align: right;\n",
       "    }\n",
       "</style>\n",
       "<table border=\"1\" class=\"dataframe\">\n",
       "  <thead>\n",
       "    <tr style=\"text-align: right;\">\n",
       "      <th>col_0</th>\n",
       "      <th>0</th>\n",
       "      <th>1</th>\n",
       "    </tr>\n",
       "    <tr>\n",
       "      <th>row_0</th>\n",
       "      <th></th>\n",
       "      <th></th>\n",
       "    </tr>\n",
       "  </thead>\n",
       "  <tbody>\n",
       "    <tr>\n",
       "      <th>0</th>\n",
       "      <td>141</td>\n",
       "      <td>4</td>\n",
       "    </tr>\n",
       "    <tr>\n",
       "      <th>1</th>\n",
       "      <td>2</td>\n",
       "      <td>62</td>\n",
       "    </tr>\n",
       "  </tbody>\n",
       "</table>\n",
       "</div>"
      ],
      "text/plain": [
       "col_0    0   1\n",
       "row_0         \n",
       "0      141   4\n",
       "1        2  62"
      ]
     },
     "execution_count": 175,
     "metadata": {},
     "output_type": "execute_result"
    }
   ],
   "source": [
    "pd.crosstab(yhattrain, trainBrnli)"
   ]
  },
  {
   "cell_type": "code",
   "execution_count": 176,
   "id": "9de2dd4e",
   "metadata": {},
   "outputs": [
    {
     "data": {
      "text/plain": [
       "array([[141,   4],\n",
       "       [  2,  62]])"
      ]
     },
     "execution_count": 176,
     "metadata": {},
     "output_type": "execute_result"
    }
   ],
   "source": [
    "confusion_matrix(yhattrain, trainy)"
   ]
  },
  {
   "cell_type": "code",
   "execution_count": 177,
   "id": "39e6c71a",
   "metadata": {},
   "outputs": [
    {
     "data": {
      "text/plain": [
       "0.9712918660287081"
      ]
     },
     "execution_count": 177,
     "metadata": {},
     "output_type": "execute_result"
    }
   ],
   "source": [
    "accuracy_score(yhattrain, trainy)"
   ]
  },
  {
   "cell_type": "markdown",
   "id": "1c9d2e00",
   "metadata": {},
   "source": [
    "The number proportion of correctly predicted outputs is calculated by: ${141+62 \\over141+4+2+62} \\approx 97.13\\%$. <br> \n",
    "Due to the bias-variance tradeoff, this high accuracy score might not be nearly as high for the test set. If so, then this is an example of overfitting the data."
   ]
  },
  {
   "cell_type": "markdown",
   "id": "603d64fc",
   "metadata": {},
   "source": [
    "We will now test the model on the test set."
   ]
  },
  {
   "cell_type": "code",
   "execution_count": 178,
   "id": "3ef4ad22",
   "metadata": {},
   "outputs": [],
   "source": [
    "testBrnli = le.fit_transform(testy)\n",
    "\n",
    "testX = enc.fit_transform(testX)\n",
    "\n",
    "testX = pd.DataFrame(testX, columns=colnames)\n",
    "\n",
    "\n",
    "yhattest = model.predict(testX)"
   ]
  },
  {
   "cell_type": "code",
   "execution_count": 179,
   "id": "157632b8",
   "metadata": {},
   "outputs": [],
   "source": [
    "yhattest = model.predict(testX)"
   ]
  },
  {
   "cell_type": "code",
   "execution_count": 180,
   "id": "478d5c23",
   "metadata": {},
   "outputs": [
    {
     "data": {
      "text/plain": [
       "array([[50, 15],\n",
       "       [10, 15]])"
      ]
     },
     "execution_count": 180,
     "metadata": {},
     "output_type": "execute_result"
    }
   ],
   "source": [
    "confusion_matrix(yhattest, testBrnli)"
   ]
  },
  {
   "cell_type": "code",
   "execution_count": 181,
   "id": "4b6f359c",
   "metadata": {},
   "outputs": [
    {
     "data": {
      "text/plain": [
       "0.7222222222222222"
      ]
     },
     "execution_count": 181,
     "metadata": {},
     "output_type": "execute_result"
    }
   ],
   "source": [
    "accuracy_score(yhattest, testBrnli)"
   ]
  },
  {
   "cell_type": "markdown",
   "id": "59b67ecf",
   "metadata": {},
   "source": [
    "The number proportion of correctly predicted outputs is calculated by: ${50+15 \\over50+15+10+15} \\approx 72.22\\%$. <br> \n",
    "This accuracy score is not as high for the test set. This might be a sign overfitting the data as the accuracy score for the training data was much higher. If overfitting is the case, then the bias is low and the variance is high, thus the error in the model will also be higher."
   ]
  },
  {
   "cell_type": "code",
   "execution_count": null,
   "id": "5157715b",
   "metadata": {},
   "outputs": [],
   "source": []
  }
 ],
 "metadata": {
  "kernelspec": {
   "display_name": "Python 3",
   "language": "python",
   "name": "python3"
  },
  "language_info": {
   "codemirror_mode": {
    "name": "ipython",
    "version": 3
   },
   "file_extension": ".py",
   "mimetype": "text/x-python",
   "name": "python",
   "nbconvert_exporter": "python",
   "pygments_lexer": "ipython3",
   "version": "3.8.10"
  }
 },
 "nbformat": 4,
 "nbformat_minor": 5
}
